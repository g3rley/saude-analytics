{
 "cells": [
  {
   "attachments": {},
   "cell_type": "markdown",
   "metadata": {},
   "source": [
    "# Tratativa e merge dos dados\n",
    "\n",
    "Neste arquivo será realizado o tratamento e o merge dos dados da operadora de saúde:\n",
    "\n",
    "- Importação dos dados\n",
    "- Análise da estrutura e estatística dos dados\n",
    "- Merge dos dados\n",
    "- Missings\n",
    "- Type dos dados\n",
    "- Criação de colunas (id_genero, imc, class_imc)\n",
    "- Ordenação das colunas"
   ]
  },
  {
   "attachments": {},
   "cell_type": "markdown",
   "metadata": {},
   "source": [
    "### Importando bibliotecas e verificando as versões\n",
    "\n",
    "Importar todas as bibliotecas que serão utilizadas para o tratamento dos dados e verificar as versões para controle"
   ]
  },
  {
   "cell_type": "code",
   "execution_count": 1,
   "metadata": {},
   "outputs": [],
   "source": [
    "# Importando as bibliotecas que serão utilizadas para a manipulação dos dataframes\n",
    "\n",
    "import pandas as pd\n",
    "from sklearn.preprocessing import LabelEncoder"
   ]
  },
  {
   "cell_type": "code",
   "execution_count": 2,
   "metadata": {},
   "outputs": [
    {
     "name": "stdout",
     "output_type": "stream",
     "text": [
      "Verificando as versões das bibliotecas:\n",
      " pandas:1.5.3\n"
     ]
    }
   ],
   "source": [
    "# Verificação das bibliotecas usadas\n",
    "\n",
    "print(f'''Verificando as versões das bibliotecas:\\n pandas:{pd.__version__}''')"
   ]
  },
  {
   "attachments": {},
   "cell_type": "markdown",
   "metadata": {},
   "source": [
    "### Importação de dados\n",
    "\n",
    "Importando todos os dataframes para realizar a análise, tratamento e merge."
   ]
  },
  {
   "cell_type": "code",
   "execution_count": 3,
   "metadata": {},
   "outputs": [],
   "source": [
    "# Estados\n",
    "\n",
    "estados = pd.read_csv('..\\..\\data\\estados_brasileiros.csv', sep= ';', encoding= 'latin-1')"
   ]
  },
  {
   "cell_type": "code",
   "execution_count": 4,
   "metadata": {},
   "outputs": [],
   "source": [
    "# Idade dos Clientes\n",
    "\n",
    "idade = pd.read_csv('..\\..\\data\\idade_clientes.csv', sep= ';')"
   ]
  },
  {
   "cell_type": "code",
   "execution_count": 5,
   "metadata": {},
   "outputs": [],
   "source": [
    "# Clientes da Operadora de Saúde\n",
    "\n",
    "clientes = pd.read_excel('..\\..\\data\\clientes_operadora_saude.xlsx')"
   ]
  },
  {
   "cell_type": "markdown",
   "metadata": {},
   "source": [
    "### Merge datasets\n",
    "\n",
    "Mesclando os dataframes"
   ]
  },
  {
   "cell_type": "code",
   "execution_count": 55,
   "metadata": {},
   "outputs": [],
   "source": [
    "# Realizando merge nas tabelas, unificando-as\n",
    "\n",
    "op_saude = pd.merge(clientes, estados, right_on = 'cod_estado', left_on = 'id_estado')\n",
    "op_saude = pd.merge(op_saude, idade, on= 'id_cliente').sort_values('id_cliente').reset_index(drop= True)"
   ]
  },
  {
   "attachments": {},
   "cell_type": "markdown",
   "metadata": {},
   "source": [
    "### Analisando os dados\n",
    "\n",
    "Realizando a análise de todos os dados coletados para tratá-los"
   ]
  },
  {
   "cell_type": "code",
   "execution_count": 56,
   "metadata": {},
   "outputs": [
    {
     "data": {
      "text/html": [
       "<div>\n",
       "<style scoped>\n",
       "    .dataframe tbody tr th:only-of-type {\n",
       "        vertical-align: middle;\n",
       "    }\n",
       "\n",
       "    .dataframe tbody tr th {\n",
       "        vertical-align: top;\n",
       "    }\n",
       "\n",
       "    .dataframe thead th {\n",
       "        text-align: right;\n",
       "    }\n",
       "</style>\n",
       "<table border=\"1\" class=\"dataframe\">\n",
       "  <thead>\n",
       "    <tr style=\"text-align: right;\">\n",
       "      <th></th>\n",
       "      <th>id_cliente</th>\n",
       "      <th>altura</th>\n",
       "      <th>peso</th>\n",
       "      <th>colesterol</th>\n",
       "      <th>genero</th>\n",
       "      <th>id_estado</th>\n",
       "      <th>cod_estado</th>\n",
       "      <th>estado</th>\n",
       "      <th>sigla_estado</th>\n",
       "      <th>pais</th>\n",
       "      <th>idade</th>\n",
       "    </tr>\n",
       "  </thead>\n",
       "  <tbody>\n",
       "    <tr>\n",
       "      <th>0</th>\n",
       "      <td>1</td>\n",
       "      <td>1.87</td>\n",
       "      <td>102.0</td>\n",
       "      <td>190</td>\n",
       "      <td>Masculino</td>\n",
       "      <td>23</td>\n",
       "      <td>23</td>\n",
       "      <td>Roraima</td>\n",
       "      <td>RR</td>\n",
       "      <td>Brasil</td>\n",
       "      <td>17.0</td>\n",
       "    </tr>\n",
       "    <tr>\n",
       "      <th>1</th>\n",
       "      <td>2</td>\n",
       "      <td>1.82</td>\n",
       "      <td>96.0</td>\n",
       "      <td>170</td>\n",
       "      <td>Masculino</td>\n",
       "      <td>7</td>\n",
       "      <td>7</td>\n",
       "      <td>Distrito Federal</td>\n",
       "      <td>DF</td>\n",
       "      <td>Brasil</td>\n",
       "      <td>28.0</td>\n",
       "    </tr>\n",
       "    <tr>\n",
       "      <th>2</th>\n",
       "      <td>3</td>\n",
       "      <td>1.90</td>\n",
       "      <td>115.0</td>\n",
       "      <td>216</td>\n",
       "      <td>Masculino</td>\n",
       "      <td>4</td>\n",
       "      <td>4</td>\n",
       "      <td>Amazonas</td>\n",
       "      <td>AM</td>\n",
       "      <td>Brasil</td>\n",
       "      <td>62.0</td>\n",
       "    </tr>\n",
       "    <tr>\n",
       "      <th>3</th>\n",
       "      <td>4</td>\n",
       "      <td>1.90</td>\n",
       "      <td>78.0</td>\n",
       "      <td>146</td>\n",
       "      <td>Feminino</td>\n",
       "      <td>24</td>\n",
       "      <td>24</td>\n",
       "      <td>Santa Catarina</td>\n",
       "      <td>SC</td>\n",
       "      <td>Brasil</td>\n",
       "      <td>55.0</td>\n",
       "    </tr>\n",
       "    <tr>\n",
       "      <th>4</th>\n",
       "      <td>5</td>\n",
       "      <td>1.71</td>\n",
       "      <td>130.0</td>\n",
       "      <td>243</td>\n",
       "      <td>Masculino</td>\n",
       "      <td>26</td>\n",
       "      <td>26</td>\n",
       "      <td>Sergipe</td>\n",
       "      <td>SE</td>\n",
       "      <td>NaN</td>\n",
       "      <td>44.0</td>\n",
       "    </tr>\n",
       "  </tbody>\n",
       "</table>\n",
       "</div>"
      ],
      "text/plain": [
       "   id_cliente  altura   peso  colesterol     genero  id_estado  cod_estado  \\\n",
       "0           1    1.87  102.0         190  Masculino         23          23   \n",
       "1           2    1.82   96.0         170  Masculino          7           7   \n",
       "2           3    1.90  115.0         216  Masculino          4           4   \n",
       "3           4    1.90   78.0         146   Feminino         24          24   \n",
       "4           5    1.71  130.0         243  Masculino         26          26   \n",
       "\n",
       "             estado sigla_estado    pais  idade  \n",
       "0           Roraima           RR  Brasil   17.0  \n",
       "1  Distrito Federal           DF  Brasil   28.0  \n",
       "2          Amazonas           AM  Brasil   62.0  \n",
       "3    Santa Catarina           SC  Brasil   55.0  \n",
       "4           Sergipe           SE     NaN   44.0  "
      ]
     },
     "execution_count": 56,
     "metadata": {},
     "output_type": "execute_result"
    }
   ],
   "source": [
    "# Estrutura dos dados\n",
    "\n",
    "op_saude.head()"
   ]
  },
  {
   "cell_type": "code",
   "execution_count": 57,
   "metadata": {},
   "outputs": [
    {
     "data": {
      "text/html": [
       "<div>\n",
       "<style scoped>\n",
       "    .dataframe tbody tr th:only-of-type {\n",
       "        vertical-align: middle;\n",
       "    }\n",
       "\n",
       "    .dataframe tbody tr th {\n",
       "        vertical-align: top;\n",
       "    }\n",
       "\n",
       "    .dataframe thead th {\n",
       "        text-align: right;\n",
       "    }\n",
       "</style>\n",
       "<table border=\"1\" class=\"dataframe\">\n",
       "  <thead>\n",
       "    <tr style=\"text-align: right;\">\n",
       "      <th></th>\n",
       "      <th>id_cliente</th>\n",
       "      <th>altura</th>\n",
       "      <th>peso</th>\n",
       "      <th>colesterol</th>\n",
       "      <th>id_estado</th>\n",
       "      <th>cod_estado</th>\n",
       "      <th>idade</th>\n",
       "    </tr>\n",
       "  </thead>\n",
       "  <tbody>\n",
       "    <tr>\n",
       "      <th>count</th>\n",
       "      <td>225.000000</td>\n",
       "      <td>222.000000</td>\n",
       "      <td>222.000000</td>\n",
       "      <td>225.000000</td>\n",
       "      <td>225.000000</td>\n",
       "      <td>225.000000</td>\n",
       "      <td>223.000000</td>\n",
       "    </tr>\n",
       "    <tr>\n",
       "      <th>mean</th>\n",
       "      <td>113.000000</td>\n",
       "      <td>1.746171</td>\n",
       "      <td>89.265766</td>\n",
       "      <td>172.591111</td>\n",
       "      <td>13.711111</td>\n",
       "      <td>13.711111</td>\n",
       "      <td>42.865471</td>\n",
       "    </tr>\n",
       "    <tr>\n",
       "      <th>std</th>\n",
       "      <td>65.096083</td>\n",
       "      <td>0.105304</td>\n",
       "      <td>21.395153</td>\n",
       "      <td>40.072723</td>\n",
       "      <td>7.562307</td>\n",
       "      <td>7.562307</td>\n",
       "      <td>15.292046</td>\n",
       "    </tr>\n",
       "    <tr>\n",
       "      <th>min</th>\n",
       "      <td>1.000000</td>\n",
       "      <td>1.500000</td>\n",
       "      <td>50.000000</td>\n",
       "      <td>96.000000</td>\n",
       "      <td>1.000000</td>\n",
       "      <td>1.000000</td>\n",
       "      <td>16.000000</td>\n",
       "    </tr>\n",
       "    <tr>\n",
       "      <th>25%</th>\n",
       "      <td>57.000000</td>\n",
       "      <td>1.680000</td>\n",
       "      <td>72.000000</td>\n",
       "      <td>139.000000</td>\n",
       "      <td>7.000000</td>\n",
       "      <td>7.000000</td>\n",
       "      <td>30.000000</td>\n",
       "    </tr>\n",
       "    <tr>\n",
       "      <th>50%</th>\n",
       "      <td>113.000000</td>\n",
       "      <td>1.750000</td>\n",
       "      <td>90.500000</td>\n",
       "      <td>172.000000</td>\n",
       "      <td>14.000000</td>\n",
       "      <td>14.000000</td>\n",
       "      <td>43.000000</td>\n",
       "    </tr>\n",
       "    <tr>\n",
       "      <th>75%</th>\n",
       "      <td>169.000000</td>\n",
       "      <td>1.820000</td>\n",
       "      <td>103.750000</td>\n",
       "      <td>209.000000</td>\n",
       "      <td>20.000000</td>\n",
       "      <td>20.000000</td>\n",
       "      <td>55.000000</td>\n",
       "    </tr>\n",
       "    <tr>\n",
       "      <th>max</th>\n",
       "      <td>225.000000</td>\n",
       "      <td>1.980000</td>\n",
       "      <td>138.000000</td>\n",
       "      <td>256.000000</td>\n",
       "      <td>27.000000</td>\n",
       "      <td>27.000000</td>\n",
       "      <td>70.000000</td>\n",
       "    </tr>\n",
       "  </tbody>\n",
       "</table>\n",
       "</div>"
      ],
      "text/plain": [
       "       id_cliente      altura        peso  colesterol   id_estado  cod_estado  \\\n",
       "count  225.000000  222.000000  222.000000  225.000000  225.000000  225.000000   \n",
       "mean   113.000000    1.746171   89.265766  172.591111   13.711111   13.711111   \n",
       "std     65.096083    0.105304   21.395153   40.072723    7.562307    7.562307   \n",
       "min      1.000000    1.500000   50.000000   96.000000    1.000000    1.000000   \n",
       "25%     57.000000    1.680000   72.000000  139.000000    7.000000    7.000000   \n",
       "50%    113.000000    1.750000   90.500000  172.000000   14.000000   14.000000   \n",
       "75%    169.000000    1.820000  103.750000  209.000000   20.000000   20.000000   \n",
       "max    225.000000    1.980000  138.000000  256.000000   27.000000   27.000000   \n",
       "\n",
       "            idade  \n",
       "count  223.000000  \n",
       "mean    42.865471  \n",
       "std     15.292046  \n",
       "min     16.000000  \n",
       "25%     30.000000  \n",
       "50%     43.000000  \n",
       "75%     55.000000  \n",
       "max     70.000000  "
      ]
     },
     "execution_count": 57,
     "metadata": {},
     "output_type": "execute_result"
    }
   ],
   "source": [
    "# Estatística dos dados\n",
    "\n",
    "op_saude.describe()"
   ]
  },
  {
   "cell_type": "code",
   "execution_count": 58,
   "metadata": {},
   "outputs": [
    {
     "data": {
      "text/plain": [
       "id_cliente       0\n",
       "altura           3\n",
       "peso             3\n",
       "colesterol       0\n",
       "genero           0\n",
       "id_estado        0\n",
       "cod_estado       0\n",
       "estado           0\n",
       "sigla_estado     0\n",
       "pais            25\n",
       "idade            2\n",
       "dtype: int64"
      ]
     },
     "execution_count": 58,
     "metadata": {},
     "output_type": "execute_result"
    }
   ],
   "source": [
    "# Soma dos dados missing\n",
    "\n",
    "op_saude.isna().sum()"
   ]
  },
  {
   "cell_type": "code",
   "execution_count": 59,
   "metadata": {},
   "outputs": [
    {
     "name": "stdout",
     "output_type": "stream",
     "text": [
      "<class 'pandas.core.frame.DataFrame'>\n",
      "RangeIndex: 225 entries, 0 to 224\n",
      "Data columns (total 11 columns):\n",
      " #   Column        Non-Null Count  Dtype  \n",
      "---  ------        --------------  -----  \n",
      " 0   id_cliente    225 non-null    int64  \n",
      " 1   altura        222 non-null    float64\n",
      " 2   peso          222 non-null    float64\n",
      " 3   colesterol    225 non-null    int64  \n",
      " 4   genero        225 non-null    object \n",
      " 5   id_estado     225 non-null    int64  \n",
      " 6   cod_estado    225 non-null    int64  \n",
      " 7   estado        225 non-null    object \n",
      " 8   sigla_estado  225 non-null    object \n",
      " 9   pais          200 non-null    object \n",
      " 10  idade         223 non-null    float64\n",
      "dtypes: float64(3), int64(4), object(4)\n",
      "memory usage: 19.5+ KB\n"
     ]
    }
   ],
   "source": [
    "# Informações dos dados\n",
    "\n",
    "op_saude.info()"
   ]
  },
  {
   "cell_type": "code",
   "execution_count": 60,
   "metadata": {},
   "outputs": [
    {
     "data": {
      "text/plain": [
       "(225, 11)"
      ]
     },
     "execution_count": 60,
     "metadata": {},
     "output_type": "execute_result"
    }
   ],
   "source": [
    "# Tamanho da base de dados\n",
    "\n",
    "op_saude.shape"
   ]
  },
  {
   "attachments": {},
   "cell_type": "markdown",
   "metadata": {},
   "source": [
    "### Tratamento dos dados\n",
    "\n",
    "Tratando missings com drop e substituição por moda e média por genero"
   ]
  },
  {
   "attachments": {},
   "cell_type": "markdown",
   "metadata": {},
   "source": [
    "##### Missings\n"
   ]
  },
  {
   "cell_type": "code",
   "execution_count": 22,
   "metadata": {},
   "outputs": [
    {
     "data": {
      "text/plain": [
       "id_cliente       0\n",
       "altura           3\n",
       "peso             3\n",
       "colesterol       0\n",
       "genero           0\n",
       "id_estado        0\n",
       "cod_estado       0\n",
       "estado           0\n",
       "sigla_estado     0\n",
       "pais            25\n",
       "idade            2\n",
       "dtype: int64"
      ]
     },
     "execution_count": 22,
     "metadata": {},
     "output_type": "execute_result"
    }
   ],
   "source": [
    "# Verificando todos os dados ausentes\n",
    "\n",
    "op_saude.isnull().sum()"
   ]
  },
  {
   "cell_type": "markdown",
   "metadata": {},
   "source": [
    "##### Missing - Eliminando dados\n"
   ]
  },
  {
   "cell_type": "code",
   "execution_count": 61,
   "metadata": {},
   "outputs": [
    {
     "data": {
      "text/html": [
       "<div>\n",
       "<style scoped>\n",
       "    .dataframe tbody tr th:only-of-type {\n",
       "        vertical-align: middle;\n",
       "    }\n",
       "\n",
       "    .dataframe tbody tr th {\n",
       "        vertical-align: top;\n",
       "    }\n",
       "\n",
       "    .dataframe thead th {\n",
       "        text-align: right;\n",
       "    }\n",
       "</style>\n",
       "<table border=\"1\" class=\"dataframe\">\n",
       "  <thead>\n",
       "    <tr style=\"text-align: right;\">\n",
       "      <th></th>\n",
       "      <th>id_cliente</th>\n",
       "      <th>altura</th>\n",
       "      <th>peso</th>\n",
       "      <th>colesterol</th>\n",
       "      <th>genero</th>\n",
       "      <th>id_estado</th>\n",
       "      <th>cod_estado</th>\n",
       "      <th>estado</th>\n",
       "      <th>sigla_estado</th>\n",
       "      <th>pais</th>\n",
       "      <th>idade</th>\n",
       "    </tr>\n",
       "  </thead>\n",
       "  <tbody>\n",
       "    <tr>\n",
       "      <th>20</th>\n",
       "      <td>21</td>\n",
       "      <td>1.79</td>\n",
       "      <td>83.0</td>\n",
       "      <td>189</td>\n",
       "      <td>Feminino</td>\n",
       "      <td>5</td>\n",
       "      <td>5</td>\n",
       "      <td>Bahia</td>\n",
       "      <td>BA</td>\n",
       "      <td>Brasil</td>\n",
       "      <td>NaN</td>\n",
       "    </tr>\n",
       "    <tr>\n",
       "      <th>48</th>\n",
       "      <td>49</td>\n",
       "      <td>1.73</td>\n",
       "      <td>67.0</td>\n",
       "      <td>154</td>\n",
       "      <td>Feminino</td>\n",
       "      <td>7</td>\n",
       "      <td>7</td>\n",
       "      <td>Distrito Federal</td>\n",
       "      <td>DF</td>\n",
       "      <td>Brasil</td>\n",
       "      <td>NaN</td>\n",
       "    </tr>\n",
       "  </tbody>\n",
       "</table>\n",
       "</div>"
      ],
      "text/plain": [
       "    id_cliente  altura  peso  colesterol    genero  id_estado  cod_estado  \\\n",
       "20          21    1.79  83.0         189  Feminino          5           5   \n",
       "48          49    1.73  67.0         154  Feminino          7           7   \n",
       "\n",
       "              estado sigla_estado    pais  idade  \n",
       "20             Bahia           BA  Brasil    NaN  \n",
       "48  Distrito Federal           DF  Brasil    NaN  "
      ]
     },
     "execution_count": 61,
     "metadata": {},
     "output_type": "execute_result"
    }
   ],
   "source": [
    "# Dados ausentes do df clientes\n",
    "\n",
    "op_saude.loc[op_saude['idade'].isnull()] # os dados ausentes do peso e altura estão nas mesmas linhas "
   ]
  },
  {
   "cell_type": "code",
   "execution_count": 62,
   "metadata": {},
   "outputs": [],
   "source": [
    "# Eliminando os dados\n",
    "\n",
    "op_saude.dropna(subset=['idade'], inplace = True)"
   ]
  },
  {
   "cell_type": "code",
   "execution_count": 63,
   "metadata": {},
   "outputs": [
    {
     "data": {
      "text/plain": [
       "0"
      ]
     },
     "execution_count": 63,
     "metadata": {},
     "output_type": "execute_result"
    }
   ],
   "source": [
    "# Verificando os dados \"idade\"\n",
    "\n",
    "op_saude.idade.isnull().sum()"
   ]
  },
  {
   "attachments": {},
   "cell_type": "markdown",
   "metadata": {},
   "source": [
    "##### Missing - Substituição (média/mediana)"
   ]
  },
  {
   "cell_type": "code",
   "execution_count": 64,
   "metadata": {},
   "outputs": [
    {
     "data": {
      "text/html": [
       "<div>\n",
       "<style scoped>\n",
       "    .dataframe tbody tr th:only-of-type {\n",
       "        vertical-align: middle;\n",
       "    }\n",
       "\n",
       "    .dataframe tbody tr th {\n",
       "        vertical-align: top;\n",
       "    }\n",
       "\n",
       "    .dataframe thead th {\n",
       "        text-align: right;\n",
       "    }\n",
       "</style>\n",
       "<table border=\"1\" class=\"dataframe\">\n",
       "  <thead>\n",
       "    <tr style=\"text-align: right;\">\n",
       "      <th></th>\n",
       "      <th>count</th>\n",
       "      <th>mean</th>\n",
       "      <th>std</th>\n",
       "      <th>min</th>\n",
       "      <th>25%</th>\n",
       "      <th>50%</th>\n",
       "      <th>75%</th>\n",
       "      <th>max</th>\n",
       "    </tr>\n",
       "    <tr>\n",
       "      <th>genero</th>\n",
       "      <th></th>\n",
       "      <th></th>\n",
       "      <th></th>\n",
       "      <th></th>\n",
       "      <th></th>\n",
       "      <th></th>\n",
       "      <th></th>\n",
       "      <th></th>\n",
       "    </tr>\n",
       "  </thead>\n",
       "  <tbody>\n",
       "    <tr>\n",
       "      <th>Feminino</th>\n",
       "      <td>108.0</td>\n",
       "      <td>76.935185</td>\n",
       "      <td>16.064865</td>\n",
       "      <td>50.0</td>\n",
       "      <td>62.00</td>\n",
       "      <td>76.0</td>\n",
       "      <td>91.0</td>\n",
       "      <td>117.0</td>\n",
       "    </tr>\n",
       "    <tr>\n",
       "      <th>Masculino</th>\n",
       "      <td>112.0</td>\n",
       "      <td>101.410714</td>\n",
       "      <td>19.000500</td>\n",
       "      <td>54.0</td>\n",
       "      <td>88.75</td>\n",
       "      <td>101.5</td>\n",
       "      <td>118.0</td>\n",
       "      <td>138.0</td>\n",
       "    </tr>\n",
       "  </tbody>\n",
       "</table>\n",
       "</div>"
      ],
      "text/plain": [
       "           count        mean        std   min    25%    50%    75%    max\n",
       "genero                                                                   \n",
       "Feminino   108.0   76.935185  16.064865  50.0  62.00   76.0   91.0  117.0\n",
       "Masculino  112.0  101.410714  19.000500  54.0  88.75  101.5  118.0  138.0"
      ]
     },
     "execution_count": 64,
     "metadata": {},
     "output_type": "execute_result"
    }
   ],
   "source": [
    "# Descobrindo a média e mediana do peso por genero feminino e masculino\n",
    "\n",
    "op_saude.groupby('genero').peso.describe()"
   ]
  },
  {
   "cell_type": "code",
   "execution_count": 65,
   "metadata": {},
   "outputs": [
    {
     "data": {
      "text/html": [
       "<div>\n",
       "<style scoped>\n",
       "    .dataframe tbody tr th:only-of-type {\n",
       "        vertical-align: middle;\n",
       "    }\n",
       "\n",
       "    .dataframe tbody tr th {\n",
       "        vertical-align: top;\n",
       "    }\n",
       "\n",
       "    .dataframe thead th {\n",
       "        text-align: right;\n",
       "    }\n",
       "</style>\n",
       "<table border=\"1\" class=\"dataframe\">\n",
       "  <thead>\n",
       "    <tr style=\"text-align: right;\">\n",
       "      <th></th>\n",
       "      <th>count</th>\n",
       "      <th>mean</th>\n",
       "      <th>std</th>\n",
       "      <th>min</th>\n",
       "      <th>25%</th>\n",
       "      <th>50%</th>\n",
       "      <th>75%</th>\n",
       "      <th>max</th>\n",
       "    </tr>\n",
       "    <tr>\n",
       "      <th>genero</th>\n",
       "      <th></th>\n",
       "      <th></th>\n",
       "      <th></th>\n",
       "      <th></th>\n",
       "      <th></th>\n",
       "      <th></th>\n",
       "      <th></th>\n",
       "      <th></th>\n",
       "    </tr>\n",
       "  </thead>\n",
       "  <tbody>\n",
       "    <tr>\n",
       "      <th>Feminino</th>\n",
       "      <td>108.0</td>\n",
       "      <td>1.697963</td>\n",
       "      <td>0.094846</td>\n",
       "      <td>1.50</td>\n",
       "      <td>1.6200</td>\n",
       "      <td>1.69</td>\n",
       "      <td>1.760</td>\n",
       "      <td>1.91</td>\n",
       "    </tr>\n",
       "    <tr>\n",
       "      <th>Masculino</th>\n",
       "      <td>112.0</td>\n",
       "      <td>1.792411</td>\n",
       "      <td>0.094700</td>\n",
       "      <td>1.57</td>\n",
       "      <td>1.7275</td>\n",
       "      <td>1.80</td>\n",
       "      <td>1.845</td>\n",
       "      <td>1.98</td>\n",
       "    </tr>\n",
       "  </tbody>\n",
       "</table>\n",
       "</div>"
      ],
      "text/plain": [
       "           count      mean       std   min     25%   50%    75%   max\n",
       "genero                                                               \n",
       "Feminino   108.0  1.697963  0.094846  1.50  1.6200  1.69  1.760  1.91\n",
       "Masculino  112.0  1.792411  0.094700  1.57  1.7275  1.80  1.845  1.98"
      ]
     },
     "execution_count": 65,
     "metadata": {},
     "output_type": "execute_result"
    }
   ],
   "source": [
    "# Descobrindo a média e mediana da altura por genero feminino e masculino\n",
    "\n",
    "op_saude.groupby('genero').altura.describe()"
   ]
  },
  {
   "cell_type": "code",
   "execution_count": 66,
   "metadata": {},
   "outputs": [],
   "source": [
    "# Como a média e mediana do peso e da altura são muito próximas, cria-se df com média para substituição\n",
    "\n",
    "med_peso = op_saude.groupby('genero')['peso'].transform('mean')\n",
    "med_altura = op_saude.groupby('genero')['altura'].transform('mean')"
   ]
  },
  {
   "cell_type": "code",
   "execution_count": 67,
   "metadata": {},
   "outputs": [
    {
     "data": {
      "text/html": [
       "<div>\n",
       "<style scoped>\n",
       "    .dataframe tbody tr th:only-of-type {\n",
       "        vertical-align: middle;\n",
       "    }\n",
       "\n",
       "    .dataframe tbody tr th {\n",
       "        vertical-align: top;\n",
       "    }\n",
       "\n",
       "    .dataframe thead th {\n",
       "        text-align: right;\n",
       "    }\n",
       "</style>\n",
       "<table border=\"1\" class=\"dataframe\">\n",
       "  <thead>\n",
       "    <tr style=\"text-align: right;\">\n",
       "      <th></th>\n",
       "      <th>id_cliente</th>\n",
       "      <th>altura</th>\n",
       "      <th>peso</th>\n",
       "      <th>colesterol</th>\n",
       "      <th>genero</th>\n",
       "      <th>id_estado</th>\n",
       "      <th>cod_estado</th>\n",
       "      <th>estado</th>\n",
       "      <th>sigla_estado</th>\n",
       "      <th>pais</th>\n",
       "      <th>idade</th>\n",
       "    </tr>\n",
       "  </thead>\n",
       "  <tbody>\n",
       "    <tr>\n",
       "      <th>32</th>\n",
       "      <td>33</td>\n",
       "      <td>NaN</td>\n",
       "      <td>NaN</td>\n",
       "      <td>188</td>\n",
       "      <td>Masculino</td>\n",
       "      <td>22</td>\n",
       "      <td>22</td>\n",
       "      <td>Rondonia</td>\n",
       "      <td>RO</td>\n",
       "      <td>Brasil</td>\n",
       "      <td>56.0</td>\n",
       "    </tr>\n",
       "    <tr>\n",
       "      <th>41</th>\n",
       "      <td>42</td>\n",
       "      <td>NaN</td>\n",
       "      <td>NaN</td>\n",
       "      <td>177</td>\n",
       "      <td>Masculino</td>\n",
       "      <td>20</td>\n",
       "      <td>20</td>\n",
       "      <td>Rio Grande do Norte</td>\n",
       "      <td>RN</td>\n",
       "      <td>NaN</td>\n",
       "      <td>54.0</td>\n",
       "    </tr>\n",
       "    <tr>\n",
       "      <th>50</th>\n",
       "      <td>51</td>\n",
       "      <td>NaN</td>\n",
       "      <td>NaN</td>\n",
       "      <td>138</td>\n",
       "      <td>Feminino</td>\n",
       "      <td>26</td>\n",
       "      <td>26</td>\n",
       "      <td>Sergipe</td>\n",
       "      <td>SE</td>\n",
       "      <td>NaN</td>\n",
       "      <td>23.0</td>\n",
       "    </tr>\n",
       "  </tbody>\n",
       "</table>\n",
       "</div>"
      ],
      "text/plain": [
       "    id_cliente  altura  peso  colesterol     genero  id_estado  cod_estado  \\\n",
       "32          33     NaN   NaN         188  Masculino         22          22   \n",
       "41          42     NaN   NaN         177  Masculino         20          20   \n",
       "50          51     NaN   NaN         138   Feminino         26          26   \n",
       "\n",
       "                 estado sigla_estado    pais  idade  \n",
       "32             Rondonia           RO  Brasil   56.0  \n",
       "41  Rio Grande do Norte           RN     NaN   54.0  \n",
       "50              Sergipe           SE     NaN   23.0  "
      ]
     },
     "execution_count": 67,
     "metadata": {},
     "output_type": "execute_result"
    }
   ],
   "source": [
    "# Localizando os dados com o missing no peso\n",
    "\n",
    "op_saude.loc[op_saude['peso'].isnull()]"
   ]
  },
  {
   "cell_type": "code",
   "execution_count": 68,
   "metadata": {},
   "outputs": [],
   "source": [
    "# Alterando o peso e altura pela média por genero\n",
    "\n",
    "op_saude['peso'].fillna(med_peso, inplace=True)\n",
    "op_saude['altura'].fillna(med_altura, inplace=True)"
   ]
  },
  {
   "cell_type": "code",
   "execution_count": 69,
   "metadata": {},
   "outputs": [
    {
     "data": {
      "text/html": [
       "<div>\n",
       "<style scoped>\n",
       "    .dataframe tbody tr th:only-of-type {\n",
       "        vertical-align: middle;\n",
       "    }\n",
       "\n",
       "    .dataframe tbody tr th {\n",
       "        vertical-align: top;\n",
       "    }\n",
       "\n",
       "    .dataframe thead th {\n",
       "        text-align: right;\n",
       "    }\n",
       "</style>\n",
       "<table border=\"1\" class=\"dataframe\">\n",
       "  <thead>\n",
       "    <tr style=\"text-align: right;\">\n",
       "      <th></th>\n",
       "      <th>id_cliente</th>\n",
       "      <th>altura</th>\n",
       "      <th>peso</th>\n",
       "      <th>colesterol</th>\n",
       "      <th>genero</th>\n",
       "      <th>id_estado</th>\n",
       "      <th>cod_estado</th>\n",
       "      <th>estado</th>\n",
       "      <th>sigla_estado</th>\n",
       "      <th>pais</th>\n",
       "      <th>idade</th>\n",
       "    </tr>\n",
       "  </thead>\n",
       "  <tbody>\n",
       "    <tr>\n",
       "      <th>32</th>\n",
       "      <td>33</td>\n",
       "      <td>1.792411</td>\n",
       "      <td>101.410714</td>\n",
       "      <td>188</td>\n",
       "      <td>Masculino</td>\n",
       "      <td>22</td>\n",
       "      <td>22</td>\n",
       "      <td>Rondonia</td>\n",
       "      <td>RO</td>\n",
       "      <td>Brasil</td>\n",
       "      <td>56.0</td>\n",
       "    </tr>\n",
       "    <tr>\n",
       "      <th>41</th>\n",
       "      <td>42</td>\n",
       "      <td>1.792411</td>\n",
       "      <td>101.410714</td>\n",
       "      <td>177</td>\n",
       "      <td>Masculino</td>\n",
       "      <td>20</td>\n",
       "      <td>20</td>\n",
       "      <td>Rio Grande do Norte</td>\n",
       "      <td>RN</td>\n",
       "      <td>NaN</td>\n",
       "      <td>54.0</td>\n",
       "    </tr>\n",
       "    <tr>\n",
       "      <th>50</th>\n",
       "      <td>51</td>\n",
       "      <td>1.697963</td>\n",
       "      <td>76.935185</td>\n",
       "      <td>138</td>\n",
       "      <td>Feminino</td>\n",
       "      <td>26</td>\n",
       "      <td>26</td>\n",
       "      <td>Sergipe</td>\n",
       "      <td>SE</td>\n",
       "      <td>NaN</td>\n",
       "      <td>23.0</td>\n",
       "    </tr>\n",
       "  </tbody>\n",
       "</table>\n",
       "</div>"
      ],
      "text/plain": [
       "    id_cliente    altura        peso  colesterol     genero  id_estado  \\\n",
       "32          33  1.792411  101.410714         188  Masculino         22   \n",
       "41          42  1.792411  101.410714         177  Masculino         20   \n",
       "50          51  1.697963   76.935185         138   Feminino         26   \n",
       "\n",
       "    cod_estado               estado sigla_estado    pais  idade  \n",
       "32          22             Rondonia           RO  Brasil   56.0  \n",
       "41          20  Rio Grande do Norte           RN     NaN   54.0  \n",
       "50          26              Sergipe           SE     NaN   23.0  "
      ]
     },
     "execution_count": 69,
     "metadata": {},
     "output_type": "execute_result"
    }
   ],
   "source": [
    "# Localizando os dados que eram missing, para verificar os valores alterados\n",
    "\n",
    "op_saude.loc[[32, 41, 50]]  "
   ]
  },
  {
   "attachments": {},
   "cell_type": "markdown",
   "metadata": {},
   "source": [
    "##### Missing - Substituição (moda)"
   ]
  },
  {
   "cell_type": "code",
   "execution_count": 70,
   "metadata": {},
   "outputs": [
    {
     "data": {
      "text/plain": [
       "array(['Brasil', nan], dtype=object)"
      ]
     },
     "execution_count": 70,
     "metadata": {},
     "output_type": "execute_result"
    }
   ],
   "source": [
    "# Verificando os dados ausentes categóricos\n",
    "\n",
    "op_saude.pais.unique()"
   ]
  },
  {
   "cell_type": "code",
   "execution_count": 71,
   "metadata": {},
   "outputs": [],
   "source": [
    "# Criando variável com a ccorreção dos termos em \"país\"\n",
    "\n",
    "correcao_pais = op_saude.pais.mode()[0]"
   ]
  },
  {
   "cell_type": "code",
   "execution_count": 72,
   "metadata": {},
   "outputs": [],
   "source": [
    "# Substituição dos missings\n",
    "\n",
    "op_saude.pais.fillna(correcao_pais, inplace= True)"
   ]
  },
  {
   "cell_type": "code",
   "execution_count": 73,
   "metadata": {},
   "outputs": [
    {
     "data": {
      "text/plain": [
       "0"
      ]
     },
     "execution_count": 73,
     "metadata": {},
     "output_type": "execute_result"
    }
   ],
   "source": [
    "# Verificando os dados da coluna \"país\"\n",
    "\n",
    "op_saude.pais.isna().sum()"
   ]
  },
  {
   "attachments": {},
   "cell_type": "markdown",
   "metadata": {},
   "source": [
    "##### Verificando missings"
   ]
  },
  {
   "cell_type": "code",
   "execution_count": 74,
   "metadata": {},
   "outputs": [
    {
     "data": {
      "text/plain": [
       "id_cliente      0\n",
       "altura          0\n",
       "peso            0\n",
       "colesterol      0\n",
       "genero          0\n",
       "id_estado       0\n",
       "cod_estado      0\n",
       "estado          0\n",
       "sigla_estado    0\n",
       "pais            0\n",
       "idade           0\n",
       "dtype: int64"
      ]
     },
     "execution_count": 74,
     "metadata": {},
     "output_type": "execute_result"
    }
   ],
   "source": [
    "# Verificando se todos os missings foram tratados\n",
    "\n",
    "op_saude.isnull().sum()"
   ]
  },
  {
   "attachments": {},
   "cell_type": "markdown",
   "metadata": {},
   "source": [
    "### Organizando os dados\n",
    "\n",
    "Organização e criação de colunas para enriquecer os dados para a análise exploratória"
   ]
  },
  {
   "attachments": {},
   "cell_type": "markdown",
   "metadata": {},
   "source": [
    "##### Transformando idade e peso em números inteiros"
   ]
  },
  {
   "cell_type": "code",
   "execution_count": 75,
   "metadata": {},
   "outputs": [],
   "source": [
    "# Alterando o type das colunas 'idade' e 'peso'\n",
    "\n",
    "op_saude['idade'] = op_saude['idade'].astype(int)\n",
    "op_saude['peso'] = op_saude['peso'].astype(int)"
   ]
  },
  {
   "attachments": {},
   "cell_type": "markdown",
   "metadata": {},
   "source": [
    "##### Criando função para categorizar o genero\n",
    "\n",
    "Para facilitar a utilização dos dados 'genero', estou criando coluna categorizando-os em 0 e 1, o que facilita a utilização desses dados em aprendizado de máquina e plotagem de gráficos"
   ]
  },
  {
   "cell_type": "code",
   "execution_count": 76,
   "metadata": {},
   "outputs": [],
   "source": [
    "# Atribuindo função a uma variável\n",
    "\n",
    "LE = LabelEncoder()"
   ]
  },
  {
   "cell_type": "code",
   "execution_count": 77,
   "metadata": {},
   "outputs": [],
   "source": [
    "# Criando uma variável categórica, chamada id_genero, na transformação do LE - Label Enconder de clientes['genero']\n",
    "\n",
    "op_saude['id_genero'] = LE.fit_transform(op_saude['genero'])"
   ]
  },
  {
   "cell_type": "code",
   "execution_count": 78,
   "metadata": {},
   "outputs": [
    {
     "data": {
      "text/html": [
       "<div>\n",
       "<style scoped>\n",
       "    .dataframe tbody tr th:only-of-type {\n",
       "        vertical-align: middle;\n",
       "    }\n",
       "\n",
       "    .dataframe tbody tr th {\n",
       "        vertical-align: top;\n",
       "    }\n",
       "\n",
       "    .dataframe thead th {\n",
       "        text-align: right;\n",
       "    }\n",
       "</style>\n",
       "<table border=\"1\" class=\"dataframe\">\n",
       "  <thead>\n",
       "    <tr style=\"text-align: right;\">\n",
       "      <th></th>\n",
       "      <th>id_cliente</th>\n",
       "      <th>altura</th>\n",
       "      <th>peso</th>\n",
       "      <th>colesterol</th>\n",
       "      <th>genero</th>\n",
       "      <th>id_estado</th>\n",
       "      <th>cod_estado</th>\n",
       "      <th>estado</th>\n",
       "      <th>sigla_estado</th>\n",
       "      <th>pais</th>\n",
       "      <th>idade</th>\n",
       "      <th>id_genero</th>\n",
       "    </tr>\n",
       "  </thead>\n",
       "  <tbody>\n",
       "    <tr>\n",
       "      <th>0</th>\n",
       "      <td>1</td>\n",
       "      <td>1.87</td>\n",
       "      <td>102</td>\n",
       "      <td>190</td>\n",
       "      <td>Masculino</td>\n",
       "      <td>23</td>\n",
       "      <td>23</td>\n",
       "      <td>Roraima</td>\n",
       "      <td>RR</td>\n",
       "      <td>Brasil</td>\n",
       "      <td>17</td>\n",
       "      <td>1</td>\n",
       "    </tr>\n",
       "    <tr>\n",
       "      <th>1</th>\n",
       "      <td>2</td>\n",
       "      <td>1.82</td>\n",
       "      <td>96</td>\n",
       "      <td>170</td>\n",
       "      <td>Masculino</td>\n",
       "      <td>7</td>\n",
       "      <td>7</td>\n",
       "      <td>Distrito Federal</td>\n",
       "      <td>DF</td>\n",
       "      <td>Brasil</td>\n",
       "      <td>28</td>\n",
       "      <td>1</td>\n",
       "    </tr>\n",
       "    <tr>\n",
       "      <th>2</th>\n",
       "      <td>3</td>\n",
       "      <td>1.90</td>\n",
       "      <td>115</td>\n",
       "      <td>216</td>\n",
       "      <td>Masculino</td>\n",
       "      <td>4</td>\n",
       "      <td>4</td>\n",
       "      <td>Amazonas</td>\n",
       "      <td>AM</td>\n",
       "      <td>Brasil</td>\n",
       "      <td>62</td>\n",
       "      <td>1</td>\n",
       "    </tr>\n",
       "    <tr>\n",
       "      <th>3</th>\n",
       "      <td>4</td>\n",
       "      <td>1.90</td>\n",
       "      <td>78</td>\n",
       "      <td>146</td>\n",
       "      <td>Feminino</td>\n",
       "      <td>24</td>\n",
       "      <td>24</td>\n",
       "      <td>Santa Catarina</td>\n",
       "      <td>SC</td>\n",
       "      <td>Brasil</td>\n",
       "      <td>55</td>\n",
       "      <td>0</td>\n",
       "    </tr>\n",
       "    <tr>\n",
       "      <th>4</th>\n",
       "      <td>5</td>\n",
       "      <td>1.71</td>\n",
       "      <td>130</td>\n",
       "      <td>243</td>\n",
       "      <td>Masculino</td>\n",
       "      <td>26</td>\n",
       "      <td>26</td>\n",
       "      <td>Sergipe</td>\n",
       "      <td>SE</td>\n",
       "      <td>Brasil</td>\n",
       "      <td>44</td>\n",
       "      <td>1</td>\n",
       "    </tr>\n",
       "  </tbody>\n",
       "</table>\n",
       "</div>"
      ],
      "text/plain": [
       "   id_cliente  altura  peso  colesterol     genero  id_estado  cod_estado  \\\n",
       "0           1    1.87   102         190  Masculino         23          23   \n",
       "1           2    1.82    96         170  Masculino          7           7   \n",
       "2           3    1.90   115         216  Masculino          4           4   \n",
       "3           4    1.90    78         146   Feminino         24          24   \n",
       "4           5    1.71   130         243  Masculino         26          26   \n",
       "\n",
       "             estado sigla_estado    pais  idade  id_genero  \n",
       "0           Roraima           RR  Brasil     17          1  \n",
       "1  Distrito Federal           DF  Brasil     28          1  \n",
       "2          Amazonas           AM  Brasil     62          1  \n",
       "3    Santa Catarina           SC  Brasil     55          0  \n",
       "4           Sergipe           SE  Brasil     44          1  "
      ]
     },
     "execution_count": 78,
     "metadata": {},
     "output_type": "execute_result"
    }
   ],
   "source": [
    "# Visualização dos dados\n",
    "\n",
    "op_saude.head()"
   ]
  },
  {
   "attachments": {},
   "cell_type": "markdown",
   "metadata": {},
   "source": [
    "##### Criando coluna IMC\n",
    "\n",
    "Como no dataframe possui a coluna de altura e peso, é possível criar uma coluna com o imc e com ela se obtem o grau do peso de cada paciente. O IMC vai servir como parametro para análise das causas do colesterol."
   ]
  },
  {
   "cell_type": "code",
   "execution_count": 79,
   "metadata": {},
   "outputs": [
    {
     "data": {
      "text/html": [
       "<div>\n",
       "<style scoped>\n",
       "    .dataframe tbody tr th:only-of-type {\n",
       "        vertical-align: middle;\n",
       "    }\n",
       "\n",
       "    .dataframe tbody tr th {\n",
       "        vertical-align: top;\n",
       "    }\n",
       "\n",
       "    .dataframe thead th {\n",
       "        text-align: right;\n",
       "    }\n",
       "</style>\n",
       "<table border=\"1\" class=\"dataframe\">\n",
       "  <thead>\n",
       "    <tr style=\"text-align: right;\">\n",
       "      <th></th>\n",
       "      <th>id_cliente</th>\n",
       "      <th>altura</th>\n",
       "      <th>peso</th>\n",
       "      <th>colesterol</th>\n",
       "      <th>genero</th>\n",
       "      <th>id_estado</th>\n",
       "      <th>cod_estado</th>\n",
       "      <th>estado</th>\n",
       "      <th>sigla_estado</th>\n",
       "      <th>pais</th>\n",
       "      <th>idade</th>\n",
       "      <th>id_genero</th>\n",
       "      <th>imc</th>\n",
       "    </tr>\n",
       "  </thead>\n",
       "  <tbody>\n",
       "    <tr>\n",
       "      <th>0</th>\n",
       "      <td>1</td>\n",
       "      <td>1.87</td>\n",
       "      <td>102</td>\n",
       "      <td>190</td>\n",
       "      <td>Masculino</td>\n",
       "      <td>23</td>\n",
       "      <td>23</td>\n",
       "      <td>Roraima</td>\n",
       "      <td>RR</td>\n",
       "      <td>Brasil</td>\n",
       "      <td>17</td>\n",
       "      <td>1</td>\n",
       "      <td>29.17</td>\n",
       "    </tr>\n",
       "    <tr>\n",
       "      <th>1</th>\n",
       "      <td>2</td>\n",
       "      <td>1.82</td>\n",
       "      <td>96</td>\n",
       "      <td>170</td>\n",
       "      <td>Masculino</td>\n",
       "      <td>7</td>\n",
       "      <td>7</td>\n",
       "      <td>Distrito Federal</td>\n",
       "      <td>DF</td>\n",
       "      <td>Brasil</td>\n",
       "      <td>28</td>\n",
       "      <td>1</td>\n",
       "      <td>28.98</td>\n",
       "    </tr>\n",
       "    <tr>\n",
       "      <th>2</th>\n",
       "      <td>3</td>\n",
       "      <td>1.90</td>\n",
       "      <td>115</td>\n",
       "      <td>216</td>\n",
       "      <td>Masculino</td>\n",
       "      <td>4</td>\n",
       "      <td>4</td>\n",
       "      <td>Amazonas</td>\n",
       "      <td>AM</td>\n",
       "      <td>Brasil</td>\n",
       "      <td>62</td>\n",
       "      <td>1</td>\n",
       "      <td>31.86</td>\n",
       "    </tr>\n",
       "    <tr>\n",
       "      <th>3</th>\n",
       "      <td>4</td>\n",
       "      <td>1.90</td>\n",
       "      <td>78</td>\n",
       "      <td>146</td>\n",
       "      <td>Feminino</td>\n",
       "      <td>24</td>\n",
       "      <td>24</td>\n",
       "      <td>Santa Catarina</td>\n",
       "      <td>SC</td>\n",
       "      <td>Brasil</td>\n",
       "      <td>55</td>\n",
       "      <td>0</td>\n",
       "      <td>21.61</td>\n",
       "    </tr>\n",
       "    <tr>\n",
       "      <th>4</th>\n",
       "      <td>5</td>\n",
       "      <td>1.71</td>\n",
       "      <td>130</td>\n",
       "      <td>243</td>\n",
       "      <td>Masculino</td>\n",
       "      <td>26</td>\n",
       "      <td>26</td>\n",
       "      <td>Sergipe</td>\n",
       "      <td>SE</td>\n",
       "      <td>Brasil</td>\n",
       "      <td>44</td>\n",
       "      <td>1</td>\n",
       "      <td>44.46</td>\n",
       "    </tr>\n",
       "  </tbody>\n",
       "</table>\n",
       "</div>"
      ],
      "text/plain": [
       "   id_cliente  altura  peso  colesterol     genero  id_estado  cod_estado  \\\n",
       "0           1    1.87   102         190  Masculino         23          23   \n",
       "1           2    1.82    96         170  Masculino          7           7   \n",
       "2           3    1.90   115         216  Masculino          4           4   \n",
       "3           4    1.90    78         146   Feminino         24          24   \n",
       "4           5    1.71   130         243  Masculino         26          26   \n",
       "\n",
       "             estado sigla_estado    pais  idade  id_genero    imc  \n",
       "0           Roraima           RR  Brasil     17          1  29.17  \n",
       "1  Distrito Federal           DF  Brasil     28          1  28.98  \n",
       "2          Amazonas           AM  Brasil     62          1  31.86  \n",
       "3    Santa Catarina           SC  Brasil     55          0  21.61  \n",
       "4           Sergipe           SE  Brasil     44          1  44.46  "
      ]
     },
     "execution_count": 79,
     "metadata": {},
     "output_type": "execute_result"
    }
   ],
   "source": [
    "# Criando coluna com o IMC de cada um dos clientes da operadora de saúde\n",
    "\n",
    "op_saude['imc'] = round(op_saude.peso / (op_saude.altura * op_saude.altura), 2)\n",
    "op_saude.head()"
   ]
  },
  {
   "attachments": {},
   "cell_type": "markdown",
   "metadata": {},
   "source": [
    "##### Criando coluna de classificação do IMC\n",
    "\n",
    "Para facilitar a vizualização da classificação do IMC, cria-se uma coluna com essa informação."
   ]
  },
  {
   "cell_type": "code",
   "execution_count": 80,
   "metadata": {},
   "outputs": [],
   "source": [
    "#               IMC - tabela\n",
    "#    __________________________________\n",
    "#        Baixo Peso    |     < 18        \n",
    "#       Normal Peso    |   18 - 24.9        \n",
    "#        Sobrepeso     |   25 - 29.9\n",
    "#     Obesidade Grau 1 |   30 - 34.9\n",
    "#     Obesidade Grau 2 |   35 - 39.9\n",
    "#     Obesidade Grau 3 |     > 40"
   ]
  },
  {
   "cell_type": "code",
   "execution_count": 81,
   "metadata": {},
   "outputs": [],
   "source": [
    "# Tabela da classificação de peso de acordo com o valor do IMC de cada paciente\n",
    "\n",
    "tabela_imc = [[0, 18, 'Baixo Peso'],\n",
    "              [18, 25, 'Normal Peso'],\n",
    "              [25, 30, 'Sobrepeso'],\n",
    "              [30, 35, 'Obesidade Grau 1'],\n",
    "              [35, 40, 'Obesidade Grau 2'],\n",
    "              [40, 100, 'Obesidade Grau 3']]"
   ]
  },
  {
   "cell_type": "code",
   "execution_count": 82,
   "metadata": {},
   "outputs": [],
   "source": [
    "# Estrutura de repetição para criar a classificação no dataframe\n",
    "\n",
    "for imc in tabela_imc:\n",
    "    op_saude.loc[(op_saude['imc'] > imc[0]) & (op_saude['imc'] < imc[1]), 'class_imc'] = imc[2]"
   ]
  },
  {
   "cell_type": "code",
   "execution_count": 83,
   "metadata": {},
   "outputs": [
    {
     "data": {
      "text/html": [
       "<div>\n",
       "<style scoped>\n",
       "    .dataframe tbody tr th:only-of-type {\n",
       "        vertical-align: middle;\n",
       "    }\n",
       "\n",
       "    .dataframe tbody tr th {\n",
       "        vertical-align: top;\n",
       "    }\n",
       "\n",
       "    .dataframe thead th {\n",
       "        text-align: right;\n",
       "    }\n",
       "</style>\n",
       "<table border=\"1\" class=\"dataframe\">\n",
       "  <thead>\n",
       "    <tr style=\"text-align: right;\">\n",
       "      <th></th>\n",
       "      <th>id_cliente</th>\n",
       "      <th>altura</th>\n",
       "      <th>peso</th>\n",
       "      <th>colesterol</th>\n",
       "      <th>genero</th>\n",
       "      <th>id_estado</th>\n",
       "      <th>cod_estado</th>\n",
       "      <th>estado</th>\n",
       "      <th>sigla_estado</th>\n",
       "      <th>pais</th>\n",
       "      <th>idade</th>\n",
       "      <th>id_genero</th>\n",
       "      <th>imc</th>\n",
       "      <th>class_imc</th>\n",
       "    </tr>\n",
       "  </thead>\n",
       "  <tbody>\n",
       "    <tr>\n",
       "      <th>0</th>\n",
       "      <td>1</td>\n",
       "      <td>1.87</td>\n",
       "      <td>102</td>\n",
       "      <td>190</td>\n",
       "      <td>Masculino</td>\n",
       "      <td>23</td>\n",
       "      <td>23</td>\n",
       "      <td>Roraima</td>\n",
       "      <td>RR</td>\n",
       "      <td>Brasil</td>\n",
       "      <td>17</td>\n",
       "      <td>1</td>\n",
       "      <td>29.17</td>\n",
       "      <td>Sobrepeso</td>\n",
       "    </tr>\n",
       "    <tr>\n",
       "      <th>1</th>\n",
       "      <td>2</td>\n",
       "      <td>1.82</td>\n",
       "      <td>96</td>\n",
       "      <td>170</td>\n",
       "      <td>Masculino</td>\n",
       "      <td>7</td>\n",
       "      <td>7</td>\n",
       "      <td>Distrito Federal</td>\n",
       "      <td>DF</td>\n",
       "      <td>Brasil</td>\n",
       "      <td>28</td>\n",
       "      <td>1</td>\n",
       "      <td>28.98</td>\n",
       "      <td>Sobrepeso</td>\n",
       "    </tr>\n",
       "    <tr>\n",
       "      <th>2</th>\n",
       "      <td>3</td>\n",
       "      <td>1.90</td>\n",
       "      <td>115</td>\n",
       "      <td>216</td>\n",
       "      <td>Masculino</td>\n",
       "      <td>4</td>\n",
       "      <td>4</td>\n",
       "      <td>Amazonas</td>\n",
       "      <td>AM</td>\n",
       "      <td>Brasil</td>\n",
       "      <td>62</td>\n",
       "      <td>1</td>\n",
       "      <td>31.86</td>\n",
       "      <td>Obesidade Grau 1</td>\n",
       "    </tr>\n",
       "    <tr>\n",
       "      <th>3</th>\n",
       "      <td>4</td>\n",
       "      <td>1.90</td>\n",
       "      <td>78</td>\n",
       "      <td>146</td>\n",
       "      <td>Feminino</td>\n",
       "      <td>24</td>\n",
       "      <td>24</td>\n",
       "      <td>Santa Catarina</td>\n",
       "      <td>SC</td>\n",
       "      <td>Brasil</td>\n",
       "      <td>55</td>\n",
       "      <td>0</td>\n",
       "      <td>21.61</td>\n",
       "      <td>Normal Peso</td>\n",
       "    </tr>\n",
       "    <tr>\n",
       "      <th>4</th>\n",
       "      <td>5</td>\n",
       "      <td>1.71</td>\n",
       "      <td>130</td>\n",
       "      <td>243</td>\n",
       "      <td>Masculino</td>\n",
       "      <td>26</td>\n",
       "      <td>26</td>\n",
       "      <td>Sergipe</td>\n",
       "      <td>SE</td>\n",
       "      <td>Brasil</td>\n",
       "      <td>44</td>\n",
       "      <td>1</td>\n",
       "      <td>44.46</td>\n",
       "      <td>Obesidade Grau 3</td>\n",
       "    </tr>\n",
       "  </tbody>\n",
       "</table>\n",
       "</div>"
      ],
      "text/plain": [
       "   id_cliente  altura  peso  colesterol     genero  id_estado  cod_estado  \\\n",
       "0           1    1.87   102         190  Masculino         23          23   \n",
       "1           2    1.82    96         170  Masculino          7           7   \n",
       "2           3    1.90   115         216  Masculino          4           4   \n",
       "3           4    1.90    78         146   Feminino         24          24   \n",
       "4           5    1.71   130         243  Masculino         26          26   \n",
       "\n",
       "             estado sigla_estado    pais  idade  id_genero    imc  \\\n",
       "0           Roraima           RR  Brasil     17          1  29.17   \n",
       "1  Distrito Federal           DF  Brasil     28          1  28.98   \n",
       "2          Amazonas           AM  Brasil     62          1  31.86   \n",
       "3    Santa Catarina           SC  Brasil     55          0  21.61   \n",
       "4           Sergipe           SE  Brasil     44          1  44.46   \n",
       "\n",
       "          class_imc  \n",
       "0         Sobrepeso  \n",
       "1         Sobrepeso  \n",
       "2  Obesidade Grau 1  \n",
       "3       Normal Peso  \n",
       "4  Obesidade Grau 3  "
      ]
     },
     "execution_count": 83,
     "metadata": {},
     "output_type": "execute_result"
    }
   ],
   "source": [
    "# Visualização do dataframe\n",
    "\n",
    "op_saude.head()"
   ]
  },
  {
   "attachments": {},
   "cell_type": "markdown",
   "metadata": {},
   "source": [
    "##### Criando coluna de classificação do colesterol\n",
    "\n",
    "Para facilitar a vizualização da classificação do colesterol, cria-se uma coluna com essa informação"
   ]
  },
  {
   "cell_type": "code",
   "execution_count": 84,
   "metadata": {},
   "outputs": [],
   "source": [
    "#           Colesterol - tabela\n",
    "#    __________________________________\n",
    "#       Muito Baixo   |      < 50        \n",
    "#         Moderado    |   50 - 199.9        \n",
    "#           Alto      |   200 - 239.9\n",
    "#        Muito Alto   |      > 240\n"
   ]
  },
  {
   "cell_type": "code",
   "execution_count": 85,
   "metadata": {},
   "outputs": [],
   "source": [
    "# Tabela da classificação do colesterol de acordo com o valor do colesterol de cada paciente\n",
    "\n",
    "tabela_colesterol = [[0, 50, 'Muito baixo'], \n",
    "                     [50, 200, 'Moderado'],\n",
    "                     [200, 240, 'Alto'],\n",
    "                     [240, 600, 'Muito Alto']]\n"
   ]
  },
  {
   "cell_type": "code",
   "execution_count": 86,
   "metadata": {},
   "outputs": [],
   "source": [
    "# Estrutura de repetição para criar a classificação no dataframe\n",
    "\n",
    "for colest in tabela_colesterol:\n",
    "    op_saude.loc[(op_saude['colesterol'] > colest[0]) & (op_saude['imc'] < colest[1]), 'class_colest'] = colest[2]"
   ]
  },
  {
   "attachments": {},
   "cell_type": "markdown",
   "metadata": {},
   "source": [
    "##### Dropando coluna repetida"
   ]
  },
  {
   "cell_type": "code",
   "execution_count": 87,
   "metadata": {},
   "outputs": [],
   "source": [
    "# Removendo a coluna 'cod_estado'\n",
    "\n",
    "op_saude.drop(columns= 'cod_estado', inplace= True)"
   ]
  },
  {
   "attachments": {},
   "cell_type": "markdown",
   "metadata": {},
   "source": [
    "##### Alterando conteúdo da variável siglas do estado"
   ]
  },
  {
   "cell_type": "code",
   "execution_count": 88,
   "metadata": {},
   "outputs": [],
   "source": [
    "# Padronizando as siglas dos estados\n",
    "\n",
    "op_saude['sigla_estado'] = op_saude.sigla_estado.str.upper()"
   ]
  },
  {
   "cell_type": "markdown",
   "metadata": {},
   "source": [
    "#### Alterando disposições das colunas"
   ]
  },
  {
   "cell_type": "code",
   "execution_count": 89,
   "metadata": {},
   "outputs": [
    {
     "data": {
      "text/html": [
       "<div>\n",
       "<style scoped>\n",
       "    .dataframe tbody tr th:only-of-type {\n",
       "        vertical-align: middle;\n",
       "    }\n",
       "\n",
       "    .dataframe tbody tr th {\n",
       "        vertical-align: top;\n",
       "    }\n",
       "\n",
       "    .dataframe thead th {\n",
       "        text-align: right;\n",
       "    }\n",
       "</style>\n",
       "<table border=\"1\" class=\"dataframe\">\n",
       "  <thead>\n",
       "    <tr style=\"text-align: right;\">\n",
       "      <th></th>\n",
       "      <th>id_cliente</th>\n",
       "      <th>id_genero</th>\n",
       "      <th>genero</th>\n",
       "      <th>idade</th>\n",
       "      <th>peso</th>\n",
       "      <th>altura</th>\n",
       "      <th>imc</th>\n",
       "      <th>class_imc</th>\n",
       "      <th>colesterol</th>\n",
       "      <th>class_colest</th>\n",
       "      <th>estado</th>\n",
       "      <th>sigla_estado</th>\n",
       "      <th>pais</th>\n",
       "    </tr>\n",
       "  </thead>\n",
       "  <tbody>\n",
       "    <tr>\n",
       "      <th>0</th>\n",
       "      <td>1</td>\n",
       "      <td>1</td>\n",
       "      <td>Masculino</td>\n",
       "      <td>17</td>\n",
       "      <td>102</td>\n",
       "      <td>1.87</td>\n",
       "      <td>29.17</td>\n",
       "      <td>Sobrepeso</td>\n",
       "      <td>190</td>\n",
       "      <td>Moderado</td>\n",
       "      <td>Roraima</td>\n",
       "      <td>RR</td>\n",
       "      <td>Brasil</td>\n",
       "    </tr>\n",
       "    <tr>\n",
       "      <th>1</th>\n",
       "      <td>2</td>\n",
       "      <td>1</td>\n",
       "      <td>Masculino</td>\n",
       "      <td>28</td>\n",
       "      <td>96</td>\n",
       "      <td>1.82</td>\n",
       "      <td>28.98</td>\n",
       "      <td>Sobrepeso</td>\n",
       "      <td>170</td>\n",
       "      <td>Moderado</td>\n",
       "      <td>Distrito Federal</td>\n",
       "      <td>DF</td>\n",
       "      <td>Brasil</td>\n",
       "    </tr>\n",
       "    <tr>\n",
       "      <th>2</th>\n",
       "      <td>3</td>\n",
       "      <td>1</td>\n",
       "      <td>Masculino</td>\n",
       "      <td>62</td>\n",
       "      <td>115</td>\n",
       "      <td>1.90</td>\n",
       "      <td>31.86</td>\n",
       "      <td>Obesidade Grau 1</td>\n",
       "      <td>216</td>\n",
       "      <td>Alto</td>\n",
       "      <td>Amazonas</td>\n",
       "      <td>AM</td>\n",
       "      <td>Brasil</td>\n",
       "    </tr>\n",
       "    <tr>\n",
       "      <th>3</th>\n",
       "      <td>4</td>\n",
       "      <td>0</td>\n",
       "      <td>Feminino</td>\n",
       "      <td>55</td>\n",
       "      <td>78</td>\n",
       "      <td>1.90</td>\n",
       "      <td>21.61</td>\n",
       "      <td>Normal Peso</td>\n",
       "      <td>146</td>\n",
       "      <td>Moderado</td>\n",
       "      <td>Santa Catarina</td>\n",
       "      <td>SC</td>\n",
       "      <td>Brasil</td>\n",
       "    </tr>\n",
       "    <tr>\n",
       "      <th>4</th>\n",
       "      <td>5</td>\n",
       "      <td>1</td>\n",
       "      <td>Masculino</td>\n",
       "      <td>44</td>\n",
       "      <td>130</td>\n",
       "      <td>1.71</td>\n",
       "      <td>44.46</td>\n",
       "      <td>Obesidade Grau 3</td>\n",
       "      <td>243</td>\n",
       "      <td>Muito Alto</td>\n",
       "      <td>Sergipe</td>\n",
       "      <td>SE</td>\n",
       "      <td>Brasil</td>\n",
       "    </tr>\n",
       "  </tbody>\n",
       "</table>\n",
       "</div>"
      ],
      "text/plain": [
       "   id_cliente  id_genero     genero  idade  peso  altura    imc  \\\n",
       "0           1          1  Masculino     17   102    1.87  29.17   \n",
       "1           2          1  Masculino     28    96    1.82  28.98   \n",
       "2           3          1  Masculino     62   115    1.90  31.86   \n",
       "3           4          0   Feminino     55    78    1.90  21.61   \n",
       "4           5          1  Masculino     44   130    1.71  44.46   \n",
       "\n",
       "          class_imc  colesterol class_colest            estado sigla_estado  \\\n",
       "0         Sobrepeso         190     Moderado           Roraima           RR   \n",
       "1         Sobrepeso         170     Moderado  Distrito Federal           DF   \n",
       "2  Obesidade Grau 1         216         Alto          Amazonas           AM   \n",
       "3       Normal Peso         146     Moderado    Santa Catarina           SC   \n",
       "4  Obesidade Grau 3         243   Muito Alto           Sergipe           SE   \n",
       "\n",
       "     pais  \n",
       "0  Brasil  \n",
       "1  Brasil  \n",
       "2  Brasil  \n",
       "3  Brasil  \n",
       "4  Brasil  "
      ]
     },
     "execution_count": 89,
     "metadata": {},
     "output_type": "execute_result"
    }
   ],
   "source": [
    "# Alterando a ordem das colunas do dataframe\n",
    "\n",
    "ordem_colunas = ['id_cliente', 'id_genero', 'genero', 'idade', 'peso', 'altura', 'imc', 'class_imc', 'colesterol', 'class_colest', 'estado', 'sigla_estado', 'pais']\n",
    "op_saude[ordem_colunas].head()"
   ]
  },
  {
   "attachments": {},
   "cell_type": "markdown",
   "metadata": {},
   "source": [
    "### Arquivo CSV para a EDA"
   ]
  },
  {
   "cell_type": "code",
   "execution_count": 90,
   "metadata": {},
   "outputs": [],
   "source": [
    "# Criando arquivo, na pasta tratativa, do dataframe 'op_saude' com todo o tratamento realizado neste arquivo\n",
    "\n",
    "op_saude.to_csv('merged_operadora_saude.csv')"
   ]
  }
 ],
 "metadata": {
  "kernelspec": {
   "display_name": "Python 3",
   "language": "python",
   "name": "python3"
  },
  "language_info": {
   "codemirror_mode": {
    "name": "ipython",
    "version": 3
   },
   "file_extension": ".py",
   "mimetype": "text/x-python",
   "name": "python",
   "nbconvert_exporter": "python",
   "pygments_lexer": "ipython3",
   "version": "3.10.10"
  },
  "orig_nbformat": 4
 },
 "nbformat": 4,
 "nbformat_minor": 2
}
